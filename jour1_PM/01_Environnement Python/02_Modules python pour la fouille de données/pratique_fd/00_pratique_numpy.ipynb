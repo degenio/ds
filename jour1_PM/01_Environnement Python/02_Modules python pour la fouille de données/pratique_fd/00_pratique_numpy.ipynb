{
 "cells": [
  {
   "cell_type": "markdown",
   "metadata": {},
   "source": [
    "# Pratique Numpy"
   ]
  },
  {
   "cell_type": "markdown",
   "metadata": {},
   "source": [
    "# Tableau"
   ]
  },
  {
   "cell_type": "code",
   "execution_count": 2,
   "metadata": {},
   "outputs": [
    {
     "name": "stdout",
     "output_type": "stream",
     "text": [
      "[0 1 2 3 4]\n",
      "1\n",
      "(5,)\n",
      "5\n"
     ]
    }
   ],
   "source": [
    "#creation de tableau 1D\n",
    "import numpy as np\n",
    "taba=np.array([0,1,2,3,4])\n",
    "print(taba)\n",
    "\n",
    "#dimension\n",
    "print(taba.ndim)\n",
    "\n",
    "#shape\n",
    "print(taba.shape)\n",
    "\n",
    "#longueur\n",
    "print(len(taba))\n"
   ]
  },
  {
   "cell_type": "code",
   "execution_count": null,
   "metadata": {
    "collapsed": true
   },
   "outputs": [],
   "source": [
    "#Tableau 2D ou matrice\n",
    "tabb=np.array([[0,1,2],[3,4,5]])\n",
    "print(tabb)\n",
    "\n",
    "print(tabb.ndim)\n",
    "print(tabb.shape)\n",
    "\n",
    "#longeuur de la premiere dimension\n",
    "print(len(tabb))"
   ]
  },
  {
   "cell_type": "code",
   "execution_count": 3,
   "metadata": {},
   "outputs": [
    {
     "name": "stdout",
     "output_type": "stream",
     "text": [
      "[0 1 2 3 4]\n",
      "[0 2 4]\n"
     ]
    }
   ],
   "source": [
    "\n",
    "#creation avec generator function, debut, fin exclusive, increment\n",
    "rana=np.arange(5)\n",
    "print(rana)\n",
    "\n",
    "ranb=np.arange(0,5,2)\n",
    "print(ranb)"
   ]
  },
  {
   "cell_type": "markdown",
   "metadata": {},
   "source": [
    "# Matrices"
   ]
  },
  {
   "cell_type": "code",
   "execution_count": null,
   "metadata": {
    "collapsed": true
   },
   "outputs": [],
   "source": [
    "#Matrices usuelles\n",
    "#Creation de matrice avec tous les elements egaux Ã  1.\n",
    "i1=np.ones((4,4))\n",
    "print(i1)\n",
    "print(\"=\"*20)\n",
    "#zeros\n",
    "#Creation de matrice avec tous les elements egaux à  0.\n",
    "i0=np.zeros((4,4))\n",
    "print(i0)\n",
    "print(\"=\"*20)\n",
    "#eye ou  Creation de matrice avec tous les elements diagonaux egaux Ã  1 matrice identite\n",
    "iorth=np.eye(4)\n",
    "print(iorth)\n",
    "print(\"=\"*20)\n",
    "#Creation de matrice avec tous les elements 0 sauf les elements diagonaux\n",
    "idiag=np.diag(np.array([1,2,3,4]))\n",
    "print(idiag)\n",
    "print(\"=\"*20)\n"
   ]
  },
  {
   "cell_type": "markdown",
   "metadata": {},
   "source": [
    "# Operations sur les matrices"
   ]
  },
  {
   "cell_type": "code",
   "execution_count": 1,
   "metadata": {},
   "outputs": [
    {
     "name": "stdout",
     "output_type": "stream",
     "text": [
      "[[ 7  8]\n",
      " [31 29]]\n",
      "[[ 8]\n",
      " [26]]\n",
      "[[0 3]\n",
      " [1 4]\n",
      " [2 5]]\n",
      "-306.0\n"
     ]
    }
   ],
   "source": [
    "\n",
    "#multiplication de matrices\n",
    "import numpy as np\n",
    "taba=np.array([[0,1,2],[3,4,5]])\n",
    "tabb=np.array([[2,1],[5,4],[1,2]])\n",
    "\n",
    "res=np.dot(taba,tabb)\n",
    " \n",
    "print(res)\n",
    "\n",
    "#multiplication de matrice par vecteur\n",
    "import numpy as np\n",
    "taba=np.array([[0,1,2],[3,4,5]])\n",
    "vectb=np.array([[1],[2],[3]])\n",
    "\n",
    "res=np.dot(taba,vectb)\n",
    "\n",
    "print(res)\n",
    "\n",
    "\n",
    "#transposition de matrice\n",
    "import numpy as np\n",
    "taba=np.array([[0,1,2],[3,4,5]])\n",
    "res=taba.T\n",
    "\n",
    "print(res)\n",
    "\n",
    "\n",
    "#determinant dematrice\n",
    "import numpy as np\n",
    "taba=np.array([[6,1,1],[4,-2,5],[2,8,7]])\n",
    "res=np.linalg.det(taba)\n",
    "\n",
    "print(res)"
   ]
  },
  {
   "cell_type": "code",
   "execution_count": null,
   "metadata": {
    "collapsed": true
   },
   "outputs": [],
   "source": []
  }
 ],
 "metadata": {
  "kernelspec": {
   "display_name": "Python 3",
   "language": "python",
   "name": "python3"
  },
  "language_info": {
   "codemirror_mode": {
    "name": "ipython",
    "version": 3
   },
   "file_extension": ".py",
   "mimetype": "text/x-python",
   "name": "python",
   "nbconvert_exporter": "python",
   "pygments_lexer": "ipython3",
   "version": "3.6.3"
  }
 },
 "nbformat": 4,
 "nbformat_minor": 2
}
